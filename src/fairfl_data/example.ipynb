{
 "cells": [
  {
   "metadata": {},
   "cell_type": "markdown",
   "source": [
    "# How to use the FairFL-Data framework\n",
    "\n",
    "Overall, this framework can be used to generate data for fair Federated Learning settings and Federated Learning settings in general. The data is non-synthetic but based on the ACSIncome and ACSEmployment dataset. It is evaluated with regard to fairness metrics during the generation. As our implementation is based on Flower Datasets Module, we recommend to read the documentation at https://flower.ai/docs/datasets/index.html.\n"
   ],
   "id": "1e6443433d2e912f"
  },
  {
   "metadata": {},
   "cell_type": "markdown",
   "source": [
    "## 1. Generating a FairFL Dataset\n",
    "\n",
    "To generate a dataset and its partitions, you need to specify the name of the dataset (ACSIncome/ACSEmployment) and the states you want to load. The states are internally stored as \"splits\". For each state it is additionally required to specify a partitioner if this state should be considered for the internal evaluations. If no states and no partitioner are specified this defaults to lading all states as a single partition. For using partitioners, we refer to https://flower.ai/docs/datasets/tutorial-use-partitioners.html.\n",
    "\n",
    "In this example, we apply the default IIDPartitioner which is initialized internally by simply giving a number of desired partitions per state.\n"
   ],
   "id": "8310436474be0485"
  },
  {
   "cell_type": "code",
   "id": "initial_id",
   "metadata": {
    "collapsed": true
   },
   "source": [
    "from src.fairfl_data.FairFederatedDataset import FairFederatedDataset\n",
    "\n",
    "#specify the FL dataset, sets 5 partitions for CT and 2 for AK\n",
    "ffds = FairFederatedDataset(dataset=\"ACSIncome\", states=[\"CT\", \"AK\"],\n",
    "                                            partitioners={\"CT\":5, \"AK\":2 }, fl_setting=None,\n",
    "                                            fairness_metric=\"DP\", fairness_level=\"attribute\")\n",
    "\n",
    "#Calling one of the following additionally returns evaluation for the complete dataset, as only then data is downloaded\n",
    "#load the first partition of CT\n",
    "partition_CT_0 = ffds.load_partition(split=\"CT\", partition_id=0)\n",
    "\n",
    "#load the complete state CT\n",
    "split_CT = ffds.load_split(\"CT\")\n",
    "\n",
    "# the data can be stored with\n",
    "ffds.save_dataset(\"data\")\n"
   ],
   "outputs": [],
   "execution_count": null
  },
  {
   "metadata": {},
   "cell_type": "markdown",
   "source": "## 2. Modifying the data during creation",
   "id": "e28992d35f25024f"
  },
  {
   "metadata": {},
   "cell_type": "markdown",
   "source": "## 3. Evaluating the data on a set of models",
   "id": "96a6d12fdd5db308"
  },
  {
   "metadata": {},
   "cell_type": "markdown",
   "source": "# Training a",
   "id": "9557ec67f597db25"
  }
 ],
 "metadata": {
  "kernelspec": {
   "display_name": "Python 3",
   "language": "python",
   "name": "python3"
  },
  "language_info": {
   "codemirror_mode": {
    "name": "ipython",
    "version": 2
   },
   "file_extension": ".py",
   "mimetype": "text/x-python",
   "name": "python",
   "nbconvert_exporter": "python",
   "pygments_lexer": "ipython2",
   "version": "2.7.6"
  }
 },
 "nbformat": 4,
 "nbformat_minor": 5
}
